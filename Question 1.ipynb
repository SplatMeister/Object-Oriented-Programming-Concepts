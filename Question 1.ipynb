{
 "cells": [
  {
   "attachments": {},
   "cell_type": "markdown",
   "metadata": {},
   "source": [
    "a. Explain the concept of Inheritance providing a sample python code. Ensure the code follows \n",
    "Python best practices. "
   ]
  },
  {
   "cell_type": "code",
   "execution_count": 1,
   "metadata": {},
   "outputs": [
    {
     "name": "stdout",
     "output_type": "stream",
     "text": [
      "Honda\n",
      "Lights On\n"
     ]
    }
   ],
   "source": [
    "#define parent class\n",
    "class Vehicle:                                     # <- Parent Class\n",
    "    def __init__(self, brand, model, fuel):        # <- Parent class methods\n",
    "        self.brand = brand\n",
    "        self.model = model\n",
    "        self.fuel = fuel\n",
    "    \n",
    "    def start(self):\n",
    "        return \"Switched on.\"\n",
    "    \n",
    "    def engine(self):\n",
    "        return \"Switched off.\"\n",
    "# define child class\n",
    "class Car(Vehicle):                                 #<- Child Class\n",
    "    def __init__(self, brand, model, fuel, doors): # <- Child Class methods inherited by parent class\n",
    "        super().__init__(brand, model, fuel)        # <- Child class overiding parent class\n",
    "        self.doors = doors\n",
    "    \n",
    "    def lights(self):\n",
    "        return \"Lights On\"\n",
    "\n",
    "#assign to instance\n",
    "car = Car(\"Honda\", \"Civic\", 'Petrol', 4)            #<- Create and object of the child class\n",
    "\n",
    "#Calling child class        \n",
    "print(car.brand) \n",
    "print(car.lights()) \n"
   ]
  },
  {
   "attachments": {},
   "cell_type": "markdown",
   "metadata": {},
   "source": [
    "b.Define a class called Detector containing variables tag, position, and date that pass from the \n",
    "creation of an object and an attribute named as data which is an empty dictionary to store \n",
    "data. Construct a method include_data with t and data as input parameters as a date and \n",
    "data arrays. Within this method, assign t and data to the data attribute with ‘time’ and \n",
    "‘data’ as the keys. It should consist of a clear_data method to clear the data.  "
   ]
  },
  {
   "cell_type": "code",
   "execution_count": 2,
   "metadata": {},
   "outputs": [
    {
     "name": "stdout",
     "output_type": "stream",
     "text": [
      "{'time': '2022-01-15 16:55', 'data': [0.256, 0.226, 0.345, 1.022, 0.879]}\n"
     ]
    }
   ],
   "source": [
    "class Detector():\n",
    "    def __init__ (self, tag, position, date):\n",
    "        self.tag = tag\n",
    "        self.position = position\n",
    "        self.date = date\n",
    "        self.data = {}\n",
    "\n",
    "#define method include_data\n",
    "\n",
    "    def include_data(self, t, data): # creating method incclude_data\n",
    "        self.data['time'] = t        # assign t to time attribute as keys\n",
    "        self.data['data'] = data     # assign data to data attribute as keys\n",
    "\n",
    "\n",
    "    #define method clear_data\n",
    "\n",
    "        \n",
    "    def clear_data(self):            # creating clear data method\n",
    "        self.data.clear()\n",
    "\n",
    "#Output\n",
    "test_1 = Detector(\"detection\", \"test room\", \"2022-01-01\")\n",
    "test_1.include_data(\"2022-01-15 16:55\", [0.256,0.226,0.345,1.022,0.879])\n",
    "print(test_1.data)\n"
   ]
  },
  {
   "attachments": {},
   "cell_type": "markdown",
   "metadata": {},
   "source": [
    "c. On part b. you created a class to store detector information, now create a detector object to \n",
    "store data using the method, include_data.  \n",
    " \n",
    "Complete the below code block to answer the above task."
   ]
  },
  {
   "cell_type": "code",
   "execution_count": 3,
   "metadata": {},
   "outputs": [
    {
     "name": "stdout",
     "output_type": "stream",
     "text": [
      "{'time': '2022-01-15 16:55', 'data': array([0.81249999, 0.13913948, 0.59416011, 0.5542732 , 0.94974728,\n",
      "       0.59508257, 0.8355691 , 0.93356324, 0.93553425, 0.28426717])}\n"
     ]
    }
   ],
   "source": [
    "#importing numpy for generating 10 random numbers\n",
    "import numpy as np\n",
    "\n",
    "# create a detector object\n",
    "detector = Detector(\"detection 1\", \"test room 2\", \"2022-06-22\")\n",
    "\n",
    "# generate 10 random numbers and assign to data\n",
    "data = np.random.rand(10)\n",
    "\n",
    "# store data\n",
    "date_time = \"2022-01-15 16:55\"\n",
    "detector.include_data(date_time, data)\n",
    "\n",
    "# checking th the output\n",
    "print(detector.data) "
   ]
  },
  {
   "attachments": {},
   "cell_type": "markdown",
   "metadata": {},
   "source": [
    "d. Suppose there is a kind of a detector called a thermometer. It consists of the same \n",
    "attributes and methods as the Detector class, but it also consists of different properties \n",
    "compared to the original class. \n",
    " \n",
    "Next create a thermometer object to store data using the method, show_type.  \n",
    " \n",
    "Complete the below code block to answer the above task. \n",
    " \n",
    " \n"
   ]
  },
  {
   "cell_type": "code",
   "execution_count": 4,
   "metadata": {},
   "outputs": [
    {
     "name": "stdout",
     "output_type": "stream",
     "text": [
      "I am a Thermometer!\n",
      "{'time': '2022-01-15 16:55', 'data': array([13,  6, 11, 23, 23,  3, 18, 26, 20, 24])}\n"
     ]
    }
   ],
   "source": [
    "class Thermometer(Detector):\n",
    "    def show_type(self):\n",
    "        print('I am a Thermometer!')\n",
    "\n",
    "# create a thermometer object\n",
    "thermometer = Thermometer(\"Thermostat1\", \"Kitchen\", \"2022-01-01\")\n",
    "\n",
    "# show_type of the created thermometer object\n",
    "thermometer.show_type()\n",
    "\n",
    "# generate 10 random numbers and assign to data\n",
    "data = np.random.randint(0, 32, size=10)\n",
    "\n",
    "date_time = \"2022-01-15 16:55\"\n",
    "\n",
    "# store data\n",
    "thermometer.include_data(date_time, data)\n",
    "\n",
    "print(thermometer.data)"
   ]
  },
  {
   "attachments": {},
   "cell_type": "markdown",
   "metadata": {},
   "source": [
    "e. Create a new class (a specific type of thermometer) that inherits from Thermometer and \n",
    "replace the show_type method that prints out the tag of the detector.  \n",
    "Next, provide a detailed justification on the object-oriented programming concept relating \n",
    "to this instance used to answer the question. "
   ]
  },
  {
   "cell_type": "code",
   "execution_count": 5,
   "metadata": {},
   "outputs": [],
   "source": [
    "class TempreatureThermometer(Thermometer):\n",
    "    def show_type(self):\n",
    "        print(f'A digital thermometer {self.tag}!')"
   ]
  },
  {
   "attachments": {},
   "cell_type": "markdown",
   "metadata": {},
   "source": [
    "f. Suppose it is required to restrict the access to methods and attributes of the class Detector. \n",
    "Use a getter and setter function to update the version. \n",
    "Next, provide a detailed justification on the object-oriented programming concept relating \n",
    "to this instance used to answer the question.  \n",
    "Complete the below code block to answer the above task. "
   ]
  },
  {
   "cell_type": "code",
   "execution_count": 6,
   "metadata": {},
   "outputs": [
    {
     "name": "stdout",
     "output_type": "stream",
     "text": [
      "1.5\n"
     ]
    }
   ],
   "source": [
    "class Detector():\n",
    "    def __init__(self, tag, position):\n",
    "        self.tag = tag\n",
    "        self.__position = position\n",
    "        self.__version = '1.0'\n",
    "\n",
    "    @property\n",
    "    def version(self):\n",
    "        return self.__version\n",
    "    \n",
    "    @version.setter\n",
    "    def version(self, new_version):\n",
    "        self.__version = new_version\n",
    "\n",
    "#Create a new detector object\n",
    "detector = Detector('Test1',1)\n",
    "\n",
    "#set the version\n",
    "detector.version = '1.5'\n",
    "\n",
    "#get the version\n",
    "print(detector.version)\n"
   ]
  },
  {
   "attachments": {},
   "cell_type": "markdown",
   "metadata": {},
   "source": [
    "g. Explain the concept of Polymorphism providing a sample python code. Ensure the code \n",
    "follows Python best practices. "
   ]
  },
  {
   "cell_type": "code",
   "execution_count": 7,
   "metadata": {},
   "outputs": [
    {
     "name": "stdout",
     "output_type": "stream",
     "text": [
      "15 L\n",
      "22 L\n",
      "5.5 L\n"
     ]
    }
   ],
   "source": [
    "#creating a parent class\n",
    "class Vehicle:\n",
    "    def __init__(self, brand, year):\n",
    "        self.brand = brand\n",
    "        self.year = year\n",
    "\n",
    "    def check_fuel_level(self):\n",
    "        pass\n",
    "#child class 1\n",
    "class Car(Vehicle):\n",
    "    def check_fuel_level(self):\n",
    "        return \"15 L\"\n",
    "#child class 2\n",
    "class SUV(Vehicle):\n",
    "    def check_fuel_level(self):\n",
    "        return \"22 L\"\n",
    "#child class 3\n",
    "class MotorBike(Vehicle):\n",
    "    def check_fuel_level(self):\n",
    "        return \"5.5 L\"\n",
    "\n",
    "my_car = Car(\"Suzuki\", \"Alto\")\n",
    "my_bike = SUV(\"Toyota\", \"Land Cruiser\")\n",
    "my_truck = MotorBike(\"Yamaha\", \"R15\")\n",
    "\n",
    "print(my_car.check_fuel_level()) \n",
    "print(my_bike.check_fuel_level()) \n",
    "print(my_truck.check_fuel_level()) "
   ]
  }
 ],
 "metadata": {
  "kernelspec": {
   "display_name": "base",
   "language": "python",
   "name": "python3"
  },
  "language_info": {
   "codemirror_mode": {
    "name": "ipython",
    "version": 3
   },
   "file_extension": ".py",
   "mimetype": "text/x-python",
   "name": "python",
   "nbconvert_exporter": "python",
   "pygments_lexer": "ipython3",
   "version": "3.9.12"
  },
  "orig_nbformat": 4,
  "vscode": {
   "interpreter": {
    "hash": "6f5583cf1d9466b5c27e75c89cc6b383bed5736d6b16c51c8074d8690011a952"
   }
  }
 },
 "nbformat": 4,
 "nbformat_minor": 2
}
